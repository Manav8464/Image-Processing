{
 "cells": [
  {
   "cell_type": "code",
   "execution_count": 1,
   "metadata": {},
   "outputs": [
    {
     "name": "stdout",
     "output_type": "stream",
     "text": [
      "Model: \"sequential\"\n",
      "_________________________________________________________________\n",
      "Layer (type)                 Output Shape              Param #   \n",
      "=================================================================\n",
      "reshape (Reshape)            (None, 28, 28, 1)         0         \n",
      "_________________________________________________________________\n",
      "conv2d (Conv2D)              (None, 28, 28, 32)        320       \n",
      "_________________________________________________________________\n",
      "max_pooling2d (MaxPooling2D) (None, 14, 14, 32)        0         \n",
      "_________________________________________________________________\n",
      "conv2d_1 (Conv2D)            (None, 14, 14, 32)        9248      \n",
      "_________________________________________________________________\n",
      "up_sampling2d (UpSampling2D) (None, 28, 28, 32)        0         \n",
      "_________________________________________________________________\n",
      "conv2d_2 (Conv2D)            (None, 28, 28, 1)         289       \n",
      "_________________________________________________________________\n",
      "reshape_1 (Reshape)          (None, 28, 28)            0         \n",
      "=================================================================\n",
      "Total params: 9,857\n",
      "Trainable params: 9,857\n",
      "Non-trainable params: 0\n",
      "_________________________________________________________________\n",
      "Epoch 1/10\n",
      "1875/1875 [==============================] - 106s 56ms/step - loss: 0.1149 - val_loss: 0.1140.\n",
      "Epoch 2/10\n",
      "1875/1875 [==============================] - 117s 62ms/step - loss: 0.1122 - val_loss: 0.1140\n",
      "Epoch 3/10\n",
      "1875/1875 [==============================] - 126s 67ms/step - loss: 0.1119 - val_loss: 0.1140\n",
      "Epoch 4/10\n",
      "1875/1875 [==============================] - 117s 63ms/step - loss: 0.1120 - val_loss: 0.1140\n",
      "Epoch 5/10\n",
      "1875/1875 [==============================] - 124s 66ms/step - loss: 0.1121 - val_loss: 0.1140\n",
      "Epoch 6/10\n",
      "1875/1875 [==============================] - 126s 67ms/step - loss: 0.1123 - val_loss: 0.1140\n",
      "Epoch 7/10\n",
      "1875/1875 [==============================] - 152s 81ms/step - loss: 0.1121 - val_loss: 0.1140\n",
      "Epoch 8/10\n",
      "1875/1875 [==============================] - 131s 70ms/step - loss: 0.1119 - val_loss: 0.1140\n",
      "Epoch 9/10\n",
      "1875/1875 [==============================] - 129s 69ms/step - loss: 0.1120 - val_loss: 0.1140\n",
      "Epoch 10/10\n",
      "1875/1875 [==============================] - 129s 69ms/step - loss: 0.1121 - val_loss: 0.1140\n"
     ]
    },
    {
     "data": {
      "text/plain": [
       "<tensorflow.python.keras.callbacks.History at 0x21aa44a1f88>"
      ]
     },
     "execution_count": 1,
     "metadata": {},
     "output_type": "execute_result"
    }
   ],
   "source": [
    "from keras.layers import Input, Dense, Flatten, Reshape, Conv2D, UpSampling2D, MaxPooling2D\n",
    "from keras.models import Model, Sequential\n",
    "from keras.datasets import mnist\n",
    "from keras.callbacks import Callback\n",
    "import numpy as np\n",
    "\n",
    "# Add some random noise to an image\n",
    "def add_noise(x_train, x_test):\n",
    "    noise_factor = 0.5\n",
    "    x_train_noisy = x_train + noise_factor * np.random.normal(loc=0.0, scale=1.0, size=x_train.shape) \n",
    "    x_test_noisy = x_test + noise_factor * np.random.normal(loc=0.0, scale=1.0, size=x_test.shape) \n",
    "    \n",
    "    x_train_noisy = np.clip(x_train_noisy, 0., 1.)\n",
    "    x_test_noisy = np.clip(x_test_noisy, 0., 1.)\n",
    "    return x_train_noisy, x_test_noisy\n",
    "\n",
    "\n",
    "#Load the dataset\n",
    "(x_train, _), (x_test, _) = mnist.load_data()\n",
    "(x_train_noisy, x_test_noisy) = add_noise(x_train, x_test)\n",
    "\n",
    "x_train = x_train.astype('float32') / 255.\n",
    "x_test = x_test.astype('float32') / 255.\n",
    "\n",
    "#Create the model\n",
    "model = Sequential()\n",
    "model.add(Reshape((28,28,1), input_shape=(28,28)))\n",
    "model.add(Conv2D(32, (3, 3), activation = 'relu', padding = 'same'))\n",
    "model.add(MaxPooling2D(2,2))\n",
    "model.add(Conv2D(32, (3, 3), activation = 'relu', padding = 'same'))\n",
    "model.add(UpSampling2D((2, 2)))\n",
    "model.add(Conv2D(1, (3, 3), activation = 'sigmoid', padding = 'same'))\n",
    "model.add(Reshape((28,28)))\n",
    "\n",
    "model.compile(optimizer = 'adam', loss='mse')\n",
    "\n",
    "#Summary of the model\n",
    "model.summary()\n",
    "\n",
    "#Fit the model\n",
    "model.fit(x_train_noisy, x_train, epochs = 10, validation_data = (x_test_noisy, x_test))"
   ]
  }
 ],
 "metadata": {
  "kernelspec": {
   "display_name": "Python 3",
   "language": "python",
   "name": "python3"
  },
  "language_info": {
   "codemirror_mode": {
    "name": "ipython",
    "version": 3
   },
   "file_extension": ".py",
   "mimetype": "text/x-python",
   "name": "python",
   "nbconvert_exporter": "python",
   "pygments_lexer": "ipython3",
   "version": "3.7.6"
  }
 },
 "nbformat": 4,
 "nbformat_minor": 4
}
